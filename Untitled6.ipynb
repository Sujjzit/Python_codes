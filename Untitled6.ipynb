{
 "cells": [
  {
   "cell_type": "code",
   "execution_count": 1,
   "metadata": {
    "collapsed": false
   },
   "outputs": [
    {
     "ename": "SyntaxError",
     "evalue": "invalid syntax (<ipython-input-1-ba5a6c63dac0>, line 1)",
     "output_type": "error",
     "traceback": [
      "\u001b[0;36m  File \u001b[0;32m\"<ipython-input-1-ba5a6c63dac0>\"\u001b[0;36m, line \u001b[0;32m1\u001b[0m\n\u001b[0;31m    val count = spark.parallelize(1 to NUM_SAMPLES).map{i =>\u001b[0m\n\u001b[0m            ^\u001b[0m\n\u001b[0;31mSyntaxError\u001b[0m\u001b[0;31m:\u001b[0m invalid syntax\n"
     ]
    }
   ],
   "source": [
    "val count = spark.parallelize(1 to NUM_SAMPLES).map{i =>\u000b",
    "  val x = Math.random()\u000b",
    "  val y = Math.random()\u000b",
    "  if (x*x + y*y < 1) 1 else 0\u000b",
    "}.reduce(_ + _)\u000b",
    "println(\"Pi is roughly \" + 4.0 * count / NUM_SAMPLES)\n"
   ]
  },
  {
   "cell_type": "code",
   "execution_count": 2,
   "metadata": {
    "collapsed": true
   },
   "outputs": [],
   "source": [
    "import random\n",
    "\n",
    "TIMES_TO_REPEAT = 10**5\n",
    "LENGTH = 10**5\n",
    "CENTER = [LENGTH/2,LENGTH/2]\n",
    "\n",
    "def in_circle(point):\n",
    "    x, y = point\n",
    "    center_x = CENTER[0]\n",
    "    center_y = CENTER[1]\n",
    "    radius = LENGTH/2\n",
    "    return (x - center_x)**2 + (y - center_y)**2 < radius**2\n",
    "\n",
    "count = inside_count = 0\n",
    "for i in range(TIMES_TO_REPEAT):\n",
    "    point = random.randint(1,LENGTH),random.randint(1,LENGTH)\n",
    "    if in_circle(point):\n",
    "        inside_count += 1\n",
    "    count += 1"
   ]
  },
  {
   "cell_type": "code",
   "execution_count": 3,
   "metadata": {
    "collapsed": false
   },
   "outputs": [
    {
     "name": "stdout",
     "output_type": "stream",
     "text": [
      "0\n"
     ]
    }
   ],
   "source": [
    "pi = (inside_count / count) * 4\n",
    "\n",
    "print(pi)\n"
   ]
  },
  {
   "cell_type": "code",
   "execution_count": 4,
   "metadata": {
    "collapsed": false
   },
   "outputs": [
    {
     "name": "stdout",
     "output_type": "stream",
     "text": [
      "0\n"
     ]
    }
   ],
   "source": [
    "import random\n",
    "\n",
    "NB_POINTS = 10**5\n",
    "LENGTH = 10**5\n",
    "CENTER = [LENGTH/2,LENGTH/2]\n",
    "\n",
    "def in_circle(point):\n",
    "    x,y = point\n",
    "    center_x, center_y = CENTER\n",
    "    radius = LENGTH/2\n",
    "    return (x - center_x)**2 + (y - center_y)**2 < radius**2\n",
    "\n",
    "def compute_pi(nb_it):\n",
    "    inside_count = sum(1 for _ in range(nb_it) if in_circle((random.randint(1,LENGTH),random.randint(1,LENGTH))))\n",
    "    return (inside_count / nb_it) * 4\n",
    "\n",
    "if __name__ == \"__main__\":\n",
    "    print(compute_pi(NB_POINTS))"
   ]
  },
  {
   "cell_type": "code",
   "execution_count": 8,
   "metadata": {
    "collapsed": false
   },
   "outputs": [
    {
     "name": "stdout",
     "output_type": "stream",
     "text": [
      "3.0\n"
     ]
    }
   ],
   "source": [
    "import random\n",
    "\n",
    "NB_POINTS = 10**5\n",
    "\n",
    "def compute_pi(nb_it):\n",
    "    return 4 * sum(1 for _ in range(nb_it) if random.random()**2 + random.random()**2 < 1) / nb_it\n",
    "\n",
    "if __name__ == \"__main__\":\n",
    "    print float(compute_pi(NB_POINTS))"
   ]
  },
  {
   "cell_type": "code",
   "execution_count": 10,
   "metadata": {
    "collapsed": false
   },
   "outputs": [
    {
     "name": "stdout",
     "output_type": "stream",
     "text": [
      "3.0\n"
     ]
    }
   ],
   "source": [
    "import random\n",
    "\n",
    "def approximate_pi(repeats=10**5):\n",
    "    \"\"\"Monte Carlo simulation to approximate pi.\n",
    "\n",
    "    ... explanation goes here\n",
    "\n",
    "    \"\"\"\n",
    "    inside = 0\n",
    "    for _ in range(repeats):\n",
    "        x, y = random.random(), random.random()\n",
    "        if (((0.5 - x) ** 2) + ((0.5 - y) ** 2)) <= 0.25:\n",
    "            inside += 1\n",
    "    return (4 * inside) / repeats\n",
    "\n",
    "if __name__ == '__main__':\n",
    "    print float(approximate_pi())"
   ]
  },
  {
   "cell_type": "code",
   "execution_count": 11,
   "metadata": {
    "collapsed": false
   },
   "outputs": [
    {
     "name": "stdout",
     "output_type": "stream",
     "text": [
      "3.184\n"
     ]
    }
   ],
   "source": [
    "from __future__ import division\n",
    "\n",
    "import random\n",
    "\n",
    "\n",
    "def in_circle(x, y):\n",
    "    return x**2 + y**2 < 1\n",
    "\n",
    "\n",
    "def compute_pi(samples):\n",
    "    \"\"\"\n",
    "    Returns an approximation of pi using Monte Carlo.\n",
    "\n",
    "    The precision increases with sqrt(samples). See ref. [...] why.\n",
    "    \"\"\"\n",
    "\n",
    "    counts = 0\n",
    "    for _ in range(samples):\n",
    "        if in_circle(random.random(), random.random()):\n",
    "            counts += 1\n",
    "\n",
    "    return (counts / samples) * 4  # Expression in file docstring\n",
    "\n",
    "\n",
    "if __name__ == '__main__':\n",
    "    print(compute_pi(1000))"
   ]
  },
  {
   "cell_type": "code",
   "execution_count": 12,
   "metadata": {
    "collapsed": false
   },
   "outputs": [
    {
     "name": "stdout",
     "output_type": "stream",
     "text": [
      "3.13796\n"
     ]
    }
   ],
   "source": [
    "num_points = 10**5\n",
    "in_count = 0\n",
    "for _ in range(num_points):\n",
    "    point = random.uniform(-1,1) + random.uniform(-1,1)*1j\n",
    "    if abs(point)<1: in_count += 1\n",
    "print(in_count*4/num_points)"
   ]
  },
  {
   "cell_type": "code",
   "execution_count": 13,
   "metadata": {
    "collapsed": false
   },
   "outputs": [
    {
     "ename": "ImportError",
     "evalue": "No module named pyspark",
     "output_type": "error",
     "traceback": [
      "\u001b[0;31m---------------------------------------------------------------------------\u001b[0m",
      "\u001b[0;31mImportError\u001b[0m                               Traceback (most recent call last)",
      "\u001b[0;32m<ipython-input-13-875ea5ee03b9>\u001b[0m in \u001b[0;36m<module>\u001b[0;34m()\u001b[0m\n\u001b[1;32m      3\u001b[0m \u001b[1;32mfrom\u001b[0m \u001b[0moperator\u001b[0m \u001b[1;32mimport\u001b[0m \u001b[0madd\u001b[0m\u001b[1;33m\u001b[0m\u001b[0m\n\u001b[1;32m      4\u001b[0m \u001b[1;33m\u001b[0m\u001b[0m\n\u001b[0;32m----> 5\u001b[0;31m \u001b[1;32mfrom\u001b[0m \u001b[0mpyspark\u001b[0m \u001b[1;32mimport\u001b[0m \u001b[0mSparkContext\u001b[0m\u001b[1;33m\u001b[0m\u001b[0m\n\u001b[0m\u001b[1;32m      6\u001b[0m \u001b[1;33m\u001b[0m\u001b[0m\n\u001b[1;32m      7\u001b[0m \u001b[1;33m\u001b[0m\u001b[0m\n",
      "\u001b[0;31mImportError\u001b[0m: No module named pyspark"
     ]
    }
   ],
   "source": [
    "import sys\n",
    "from random import random\n",
    "from operator import add\n",
    "\n",
    "from pyspark import SparkContext\n",
    "\n",
    "\n",
    "if __name__ == \"__main__\":\n",
    "    \"\"\"\n",
    "        Usage: pi [partitions]\n",
    "    \"\"\"\n",
    "    sc = SparkContext(appName=\"PythonPi\")\n",
    "    partitions = int(sys.argv[1]) if len(sys.argv) > 1 else 2\n",
    "    n = 100000 * partitions\n",
    "\n",
    "    def f(_):\n",
    "        x = random() * 2 - 1\n",
    "        y = random() * 2 - 1\n",
    "        return 1 if x ** 2 + y ** 2 < 1 else 0\n",
    "\n",
    "    count = sc.parallelize(range(1, n + 1), partitions).map(f).reduce(add)\n",
    "    print(\"Pi is roughly %f\" % (4.0 * count / n))\n",
    "\n",
    "    sc.stop()"
   ]
  },
  {
   "cell_type": "code",
   "execution_count": null,
   "metadata": {
    "collapsed": true
   },
   "outputs": [],
   "source": []
  }
 ],
 "metadata": {
  "anaconda-cloud": {},
  "kernelspec": {
   "display_name": "Python [default]",
   "language": "python",
   "name": "python2"
  },
  "language_info": {
   "codemirror_mode": {
    "name": "ipython",
    "version": 2
   },
   "file_extension": ".py",
   "mimetype": "text/x-python",
   "name": "python",
   "nbconvert_exporter": "python",
   "pygments_lexer": "ipython2",
   "version": "2.7.12"
  }
 },
 "nbformat": 4,
 "nbformat_minor": 1
}
