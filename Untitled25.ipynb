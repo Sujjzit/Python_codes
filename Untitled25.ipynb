{
 "cells": [
  {
   "cell_type": "code",
   "execution_count": 16,
   "metadata": {
    "collapsed": false
   },
   "outputs": [
    {
     "name": "stdout",
     "output_type": "stream",
     "text": [
      "parent.implicit\n",
      "parent.implicit\n",
      "parent.overide\n",
      "Child.override\n",
      "parent.altered\n",
      "Child.altered before parent.altered\n",
      "parent.altered\n",
      "Child.altered after parent.altered\n"
     ]
    }
   ],
   "source": [
    "class parent(object):\n",
    "    def implicit(self):\n",
    "        print \"parent.implicit\"\n",
    "    def overide(self):\n",
    "        print \"parent.overide\"\n",
    "    def altered(self):\n",
    "        print \"parent.altered\"\n",
    "class child(parent):\n",
    "    def overide(self):\n",
    "        print \"Child.override\"\n",
    "    def altered(self):\n",
    "        print \"Child.altered before parent.altered\"\n",
    "        super(child,self).altered()\n",
    "        print \"Child.altered after parent.altered\"\n",
    "son=child()\n",
    "dad=parent()\n",
    "dad.implicit()\n",
    "son.implicit()\n",
    "dad.overide()\n",
    "son.overide()\n",
    "dad.altered()\n",
    "son.altered()"
   ]
  },
  {
   "cell_type": "code",
   "execution_count": null,
   "metadata": {
    "collapsed": false
   },
   "outputs": [],
   "source": [
    "class Parent(object):\n",
    "\n",
    "    def override(self):\n",
    "        print \"PARENT override()\"\n",
    "\n",
    "    def implicit(self):\n",
    "        print \"PARENT implicit()\"\n",
    "\n",
    "    def altered(self):\n",
    "        print \"PARENT altered()\"\n",
    "\n",
    "class Child(Parent):\n",
    "\n",
    "    def override(self):\n",
    "        print \"CHILD override()\"\n",
    "\n",
    "    def altered(self):\n",
    "        print \"CHILD, BEFORE PARENT altered()\"\n",
    "        super(Child, self).altered()\n",
    "        print \"CHILD, AFTER PARENT altered()\"\n",
    "\n",
    "dad = Parent()\n",
    "son = Child()\n",
    "\n",
    "dad.implicit()\n",
    "son.implicit()\n",
    "\n",
    "dad.override()\n",
    "son.override()\n",
    "\n",
    "dad.altered()\n",
    "son.altered()"
   ]
  },
  {
   "cell_type": "code",
   "execution_count": null,
   "metadata": {
    "collapsed": true
   },
   "outputs": [],
   "source": []
  },
  {
   "cell_type": "code",
   "execution_count": null,
   "metadata": {
    "collapsed": true
   },
   "outputs": [],
   "source": []
  },
  {
   "cell_type": "code",
   "execution_count": null,
   "metadata": {
    "collapsed": true
   },
   "outputs": [],
   "source": []
  },
  {
   "cell_type": "code",
   "execution_count": null,
   "metadata": {
    "collapsed": true
   },
   "outputs": [],
   "source": []
  }
 ],
 "metadata": {
  "anaconda-cloud": {},
  "kernelspec": {
   "display_name": "Python [default]",
   "language": "python",
   "name": "python2"
  },
  "language_info": {
   "codemirror_mode": {
    "name": "ipython",
    "version": 2
   },
   "file_extension": ".py",
   "mimetype": "text/x-python",
   "name": "python",
   "nbconvert_exporter": "python",
   "pygments_lexer": "ipython2",
   "version": "2.7.12"
  }
 },
 "nbformat": 4,
 "nbformat_minor": 1
}
