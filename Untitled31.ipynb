{
 "cells": [
  {
   "cell_type": "code",
   "execution_count": 11,
   "metadata": {
    "collapsed": false
   },
   "outputs": [
    {
     "name": "stdout",
     "output_type": "stream",
     "text": [
      "('Name: ', 'Age: ') ('Mr. Schard', 40)\n",
      "Teacher's course: Beginning Python 101\n",
      "('Name: ', 'Age: ') ('Abigale Agat', 20)\n",
      "Student's grade: 92\n",
      "('Name: ', 'Age: ') ('Bertha Belch', 22)\n",
      "Student's grade: 65\n",
      "('Name: ', 'Age: ') ('Karl Kuss', 21)\n",
      "Student's grade: 98\n",
      "('Name: ', 'Age: ') ('Tom Tippit', 22)\n",
      "Student's grade: 77\n",
      "('Name: ', 'Age: ') ('Zoe Zeller', 20)\n",
      "Student's grade: 88\n"
     ]
    }
   ],
   "source": [
    "class Schoolmember(object):\n",
    "    def __init__ (self, name,age):\n",
    "        self.name=name\n",
    "        self.age=age\n",
    "    def detail(self):\n",
    "        print ('Name: ','Age: '),(self.name,self.age)\n",
    "class Teacher(Schoolmember):\n",
    "    def __init__(self,name,age,subject):\n",
    "        Schoolmember.__init__(self, name,age)\n",
    "        self.subject=subject\n",
    "    def detail(self):\n",
    "        Schoolmember.detail(self)\n",
    "        print (\"Teacher's course:\"),(self.subject)\n",
    "class Student(Schoolmember):\n",
    "    def __init__ (self, name,age, grades):\n",
    "        Schoolmember.__init__(self, name,age)\n",
    "        self.grades=grades\n",
    "    def detail(self):\n",
    "        Schoolmember.detail(self)\n",
    "        print (\"Student's grade:\"),(self.grades)\n",
    "\n",
    "t1=Teacher('Mr. Schard', 40, 'Beginning Python 101')\n",
    "s1 = Student('Abigale Agat', 20, 92)\n",
    "s2 = Student('Bertha Belch', 22, 65)\n",
    "s3 = Student('Karl Kuss', 21, 98)\n",
    "s4 = Student('Tom Tippit', 22, 77)\n",
    "s5 = Student('Zoe Zeller', 20, 88)\n",
    "\n",
    "# list of instances, Teacher t1 and Students s1 ... s5\n",
    "members = [t1, s1, s2, s3, s4, s5]\n",
    "sumgrades = 0\n",
    "for member in members:\n",
    "    memberType = member.detail()\n",
    "    try:\n",
    "        sumgrades += member.grades\n",
    "    except AttributeError:\n",
    "        pass # this would be a teacher, has no grades so skip\n"
   ]
  },
  {
   "cell_type": "code",
   "execution_count": null,
   "metadata": {
    "collapsed": true
   },
   "outputs": [],
   "source": []
  }
 ],
 "metadata": {
  "kernelspec": {
   "display_name": "Python [conda root]",
   "language": "python",
   "name": "conda-root-py"
  },
  "language_info": {
   "codemirror_mode": {
    "name": "ipython",
    "version": 2
   },
   "file_extension": ".py",
   "mimetype": "text/x-python",
   "name": "python",
   "nbconvert_exporter": "python",
   "pygments_lexer": "ipython2",
   "version": "2.7.12"
  }
 },
 "nbformat": 4,
 "nbformat_minor": 1
}
