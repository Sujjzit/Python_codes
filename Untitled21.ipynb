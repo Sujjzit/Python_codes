{
 "cells": [
  {
   "cell_type": "code",
   "execution_count": 9,
   "metadata": {
    "collapsed": false
   },
   "outputs": [
    {
     "name": "stdout",
     "output_type": "stream",
     "text": [
      "searching for coroutine\n",
      "nfskjd dsfs coroutine\n",
      "mustafa dsfs coroutine\n"
     ]
    }
   ],
   "source": [
    "def mari(pytt):\n",
    "    print \"searching for\",pytt\n",
    "    while True:\n",
    "        line=(yield)\n",
    "        if pytt in line:\n",
    "            print (line)\n",
    "\n",
    "dumeel=mari(\"coroutine\")\n",
    "next(dumeel)\n",
    "dumeel.send(\"nfskjd dsfs coroutine\")\n",
    "dumeel.send(\"sdf fdsf ewf sdf sd\")\n",
    "dumeel.send(\"mustafa dsfs coroutine\")\n",
    "\n"
   ]
  },
  {
   "cell_type": "code",
   "execution_count": null,
   "metadata": {
    "collapsed": true
   },
   "outputs": [],
   "source": []
  },
  {
   "cell_type": "code",
   "execution_count": null,
   "metadata": {
    "collapsed": true
   },
   "outputs": [],
   "source": []
  }
 ],
 "metadata": {
  "anaconda-cloud": {},
  "kernelspec": {
   "display_name": "Python [conda root]",
   "language": "python",
   "name": "conda-root-py"
  },
  "language_info": {
   "codemirror_mode": {
    "name": "ipython",
    "version": 2
   },
   "file_extension": ".py",
   "mimetype": "text/x-python",
   "name": "python",
   "nbconvert_exporter": "python",
   "pygments_lexer": "ipython2",
   "version": "2.7.12"
  }
 },
 "nbformat": 4,
 "nbformat_minor": 1
}
